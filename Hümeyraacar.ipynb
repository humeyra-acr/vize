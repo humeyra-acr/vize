{
 "cells": [
  {
   "cell_type": "markdown",
   "id": "21787356-387c-45ff-82c6-078313f3c7bd",
   "metadata": {},
   "source": [
    "# Web Editörleri Ara Sınav Uygulaması\n",
    "\n",
    "### Talimatlar:\n",
    "* <font color=red>Bilgisayarın Görmesi (Computer Vision)</font> ile ilgili OpenCV kütüphanesinin kullanımını anlatan bir uygulama kılavuzu hazırlayınız.\n",
    "* Klavuzda yer alan başlık ve içerik yapısı aşağıdaki gibi olacaktır.\n",
    "* Dosyayı hazırladıktan sonra Github üzerinde bir hesap açıp, bu dosyayı oraya yükleyip, web adresini bu hücrece verilen yere yazınız.\n",
    "* Bu dosyayı ayrıca DBS üzerinde açılan sınav ödevi etkinliğine yükleyiniz.\n",
    "* Bu dosyayı hazırladıktan sonra DBS'ye yüklerken mutlaka dosya adını değiştirerek Kendi Adınızı yazınız. Github'a yüklerken dosya adını konu başlığı ile değiştiriniz.\n",
    "\n",
    "### Öğrenci Bilgileri\n",
    "\n",
    "Öğrenci bilgilerini yazmak için <u>buraya</u> çift tıklayınız.\n",
    "* Adı Soyadı:Hümeyra ACAR\n",
    "* Öğrenci No:213302007\n",
    "* Dosyanın Github adresi: https://github.com/humeyra-acr\n",
    "<br><br><b>Bu hücreyi, hazırladığınız dosyayı Github'a yüklemeden önce siliniz.</b>"
   ]
  },
  {
   "cell_type": "markdown",
   "id": "a90db1ba-6346-456c-b18f-a494c03a7eef",
   "metadata": {},
   "source": [
    "# Computer Vision\n",
    "\n",
    "Computer vision, bilgisayarların görme yeteneğini simüle etmeye çalışan ve dijital görüntüler üzerinde işlemler gerçekleştiren bir alanı ifade eder. Bu alan, bilgisayarların kameralardan veya diğer görüntüleme cihazlarından aldıkları görüntü verilerini anlamaları, yorumlamaları ve işlemeleriyle ilgilidir. Temel olarak, bilgisayarlarla görme sistemi arasındaki etkileşimi inceleyen bir disiplindir.\n",
    "\n",
    "Computer vision, birçok farklı uygulama alanında kullanılmaktadır. Bunlar arasında otomotiv endüstrisi (örneğin, sürücüsüz araçlar için çevre algılama), tıp (örneğin, tarama ve teşhis için görüntü işleme), güvenlik (örneğin, yüz tanıma sistemleri), tarım (örneğin, bitki hastalıklarının tespiti) ve sanayi (örneğin, kalite kontrolü) bulunmaktadır.\n",
    "\n",
    "Bu alandaki temel görevler arasında nesne algılama, nesne tanıma, yüz tanıma, hareket analizi, stereo görüş ve derin öğrenme gibi konular yer alır. Computer vision, genellikle dijital görüntülerin işlenmesi ve analiz edilmesi için kullanılan algoritmalar, teknikler ve araçlar geliştirmek üzerine odaklanır.\n",
    "\n",
    "Gelişen teknolojiyle birlikte, computer vision alanı sürekli olarak genişlemekte ve yeni uygulama alanları bulmaktadır. Bu nedenle, bilgisayar görüşü alanındaki araştırma ve geliştirme çalışmaları son derece önemlidir ve gelecekte daha da önem kazanması beklenmektedir."
   ]
  },
  {
   "cell_type": "markdown",
   "id": "ebfa1415-77ef-4991-9a36-5cfa1cb92932",
   "metadata": {
    "notebookRunGroups": {
     "groupValue": "2"
    }
   },
   "source": [
    "### OpenCv Kütüphanesi Kullanımı\n",
    "OpenCv kütüphanesi kullanarak aşağıdaki işlemler yapılabilir:\n",
    "\n",
    "1Görüntü İşleme:\n",
    "-Görüntü okuma, yazma ve görüntü formatlarını dönüştürme.\n",
    "-Görüntü üzerinde filtre uygulama (örneğin, bulanıklaştırma, keskinleştirme, kenar tespiti).\n",
    "-Renk uzayı dönüşümleri (RGB, HSV, Grayscale).\n",
    "-Histogram eşitleme ve renk düzeltme işlemleri.\n",
    "\n",
    "2-Nesne Algılama ve Tanıma:\n",
    "-Yüz, göz, insanlar, araçlar gibi nesneleri algılama.\n",
    "-Nesneleri tanıma ve sınıflandırma (örneğin, derin öğrenme modelleri kullanarak).\n",
    "\n",
    "3-Görüntü Yakalama ve Video İşleme:\n",
    "-Kamera veya video dosyasından görüntü yakalama.\n",
    "-Video akışı üzerinde işlemler yapma (örneğin, nesne izleme, hareket algılama).\n",
    "\n",
    "4-Videoyu çerçevelere ayırma ve işleme.\n",
    "-Görüntü Analizi ve Önişleme:\n",
    "-Görüntüdeki özellikleri (örneğin, kenarlar, köşeler) algılama ve çıkarma.\n",
    "-Görüntü eşleme ve benzerlik bulma.\n",
    "-Gürültüyü azaltma ve görüntü iyileştirme.\n",
    "\n",
    "5-Görüntü Segmentasyonu:\n",
    "-Görüntüyü farklı bölümlere ayırma (örneğin, nesne ayırma, arka plan çıkarımı).\n",
    "-Görüntüdeki nesneleri bölümlere ayırma (örneğin, renk tabanlı segmentasyon).\n",
    "\n",
    "6-Öznitelik Çıkarımı ve Desen Tanıma:\n",
    "-Görüntüden öznitelikler çıkarma (örneğin, HOG, LBP gibi).\n",
    "-Makine öğrenimi modelleri kullanarak görüntü sınıflandırma ve tanıma.\n",
    "\n",
    "7-3D Görüntü İşleme:\n",
    "-Stereo görüntülerden derinlik haritası oluşturma.\n",
    "-3B nesneleri algılama ve konumlandırma.\n",
    "\n",
    "8-Hedef Takibi:\n",
    "Hareketli nesneleri izleme ve takip etme.\n"
   ]
  },
  {
   "cell_type": "markdown",
   "id": "bf8597a7-af19-4875-9ea5-9fb77b63b804",
   "metadata": {},
   "source": [
    "### 0- Kütüphanenin kurulumu"
   ]
  },
  {
   "cell_type": "code",
   "execution_count": 6,
   "id": "3b125440",
   "metadata": {},
   "outputs": [],
   "source": [
    "import cv2\n",
    "import numpy as np\n"
   ]
  },
  {
   "cell_type": "code",
   "execution_count": 23,
   "id": "16af5290-9980-42ea-86f9-c4266926ae24",
   "metadata": {},
   "outputs": [],
   "source": [
    "# Görüntüyü yükleme\n",
    "image = cv2.imread('input.jpg')\n",
    "# Görüntüyü gösterme\n",
    "cv2.imshow('Image', image)\n",
    "cv2.waitKey(0)\n",
    "cv2.destroyAllWindows()"
   ]
  },
  {
   "cell_type": "markdown",
   "id": "474f1e1f-1f51-4097-b13b-2997d2f13464",
   "metadata": {},
   "source": [
    "### 2- "
   ]
  },
  {
   "cell_type": "markdown",
   "id": "1384bf1c-b05d-4ff2-a44b-0740b99eba31",
   "metadata": {},
   "source": [
    "### 3- (İhtiyaç duyduğunuz kadar bu başlıktan çoğaltarak aşağıya konu anlatımına devam ediniz.)"
   ]
  },
  {
   "cell_type": "code",
   "execution_count": null,
   "id": "3c8fe226",
   "metadata": {},
   "outputs": [],
   "source": [
    "\n",
    "# Görüntüyü siyah beyaz yapma\n",
    "gray_image = cv2.cvtColor(image, cv2.COLOR_BGR2GRAY)\n",
    "\n",
    "# Siyah beyaz görüntüyü gösterme\n",
    "cv2.imshow('Grayscale Image', gray_image)\n",
    "cv2.waitKey(0)\n",
    "cv2.destroyAllWindows()"
   ]
  },
  {
   "cell_type": "code",
   "execution_count": 16,
   "id": "b265a851-406a-49c5-af2f-3e8cfaf6087f",
   "metadata": {},
   "outputs": [],
   "source": [
    "import cv2\n",
    "\n",
    "# Görüntüyü yükleme\n",
    "image = cv2.imread('input.jpg')\n",
    "\n",
    "# Görüntüyü kesme\n",
    "cropped_image = image[:1000, -300:]\n",
    "\n",
    "# Kesilmiş görüntüyü gösterme\n",
    "cv2.imshow('Cropped Image', cropped_image)\n",
    "cv2.waitKey(0)\n",
    "cv2.destroyAllWindows()\n",
    "\n",
    "\n",
    "\n"
   ]
  },
  {
   "cell_type": "code",
   "execution_count": 17,
   "id": "1f8e4f00-3502-461b-aadf-2b4f2b72b9d7",
   "metadata": {},
   "outputs": [],
   "source": [
    "import cv2\n",
    "\n",
    "# Görüntüyü yükleme\n",
    "image = cv2.imread('input.jpg')\n",
    "\n",
    "# Görüntüyü döndürme\n",
    "rotated_image = cv2.rotate(image, cv2.ROTATE_90_CLOCKWISE)\n",
    "\n",
    "# Döndürülmüş görüntüyü gösterme\n",
    "cv2.imshow('Rotated Image', rotated_image)\n",
    "cv2.waitKey(0)\n",
    "cv2.destroyAllWindows()"
   ]
  },
  {
   "cell_type": "code",
   "execution_count": 18,
   "id": "cdd6cedb-70b0-4b92-bb7e-406f08523a2e",
   "metadata": {},
   "outputs": [],
   "source": [
    "import cv2\n",
    "\n",
    "# Görüntüyü yükleme\n",
    "image = cv2.imread('input.jpg')\n",
    "\n",
    "# Görüntüyü Gaussian bulanıklığı uygulama\n",
    "blurred_image = cv2.GaussianBlur(image, (11, 11), 0)\n",
    "\n",
    "# Bulanıklaştırılmış görüntüyü gösterme\n",
    "cv2.imshow('Blurred Image', blurred_image)\n",
    "cv2.waitKey(0)\n",
    "cv2.destroyAllWindows()"
   ]
  },
  {
   "cell_type": "code",
   "execution_count": 25,
   "id": "5cc6ca5b-4cdb-4c00-bb8f-4f372fe40855",
   "metadata": {},
   "outputs": [],
   "source": [
    "import cv2\n",
    "\n",
    "# Görüntüyü yükleme\n",
    "image = cv2.imread('input.jpg')\n",
    "\n",
    "# Görüntüyü yeniden boyutlandırma\n",
    "resized_image = cv2.resize(image, None, fx=0.5, fy=0.5)\n",
    "\n",
    "# Yeniden boyutlandırılmış görüntüyü gösterme\n",
    "cv2.imshow('Resized Image', resized_image)\n",
    "cv2.waitKey(0)\n",
    "cv2.destroyAllWindows()"
   ]
  },
  {
   "cell_type": "code",
   "execution_count": 27,
   "id": "1b421299-93ba-4bd3-b834-9b7e6a312c1e",
   "metadata": {},
   "outputs": [],
   "source": [
    "import cv2\n",
    "\n",
    "# Yüz tanıma için önceden eğitilmiş modelin yüklenmesi\n",
    "face_cascade = cv2.CascadeClassifier(cv2.data.haarcascades + 'haarcascade_frontalface_default.xml')\n",
    "\n",
    "# Görüntüyü yükleme\n",
    "image = cv2.imread('input.jpg')\n",
    "\n",
    "# Gri tonlamalı görüntü oluşturma\n",
    "gray_image = cv2.cvtColor(image, cv2.COLOR_BGR2GRAY)\n",
    "\n",
    "# Yüzleri algılama\n",
    "faces = face_cascade.detectMultiScale(gray_image, scaleFactor=1.1, minNeighbors=5, minSize=(30, 30))\n",
    "\n",
    "# Algılanan yüzleri çerçeve içine alma\n",
    "for (x, y, w, h) in faces:\n",
    "    cv2.rectangle(image, (x, y), (x+w, y+h), (255, 0, 0), 2)\n",
    "\n",
    "# Sonuçları gösterme\n",
    "cv2.imshow('Face Detection', image)\n",
    "cv2.waitKey(0)\n",
    "cv2.destroyAllWindows()"
   ]
  },
  {
   "cell_type": "code",
   "execution_count": 44,
   "id": "780699fa-ba1e-4afe-98ed-cca0059e16de",
   "metadata": {},
   "outputs": [],
   "source": [
    "import cv2\n",
    "\n",
    "# Görüntüyü yükleme\n",
    "image = cv2.imread('input.jpg')\n",
    "\n",
    "# Kenar tespiti işlemi\n",
    "edges = cv2.Canny(image, 100, 200)\n",
    "\n",
    "# Kenarları gösterme\n",
    "cv2.imshow('Edges', edges)\n",
    "cv2.waitKey(0)\n",
    "cv2.destroyAllWindows()"
   ]
  },
  {
   "cell_type": "code",
   "execution_count": 39,
   "id": "f4392b19-df68-4bf0-8974-6baead62cb74",
   "metadata": {},
   "outputs": [],
   "source": [
    "import cv2\n",
    "\n",
    "# Görüntüyü yükleme\n",
    "image = cv2.imread('input.jpg')\n",
    "\n",
    "# Görüntüyü döndürme (örneğin, saat yönünde 90 derece)\n",
    "rotated_image = cv2.rotate(image, cv2.ROTATE_90_CLOCKWISE)\n",
    "\n",
    "# Döndürülmüş görüntüyü gösterme\n",
    "cv2.imshow('Rotated Image', rotated_image)\n",
    "cv2.waitKey(0)\n",
    "cv2.destroyAllWindows()"
   ]
  },
  {
   "cell_type": "code",
   "execution_count": 42,
   "id": "39071b4b-7e50-4920-945c-8af91e227959",
   "metadata": {},
   "outputs": [],
   "source": [
    "import cv2\n",
    "import numpy as np\n",
    "\n",
    "# Görüntüyü yükleme\n",
    "image = cv2.imread('input.jpg')\n",
    "\n",
    "# RGB'den HSV'ye dönüşüm\n",
    "hsv_image = cv2.cvtColor(image, cv2.COLOR_BGR2HSV)\n"
   ]
  },
  {
   "cell_type": "code",
   "execution_count": 43,
   "id": "947cfdb4-7757-408b-a599-bf40a73330b4",
   "metadata": {},
   "outputs": [],
   "source": [
    "import cv2\n",
    "\n",
    "# Görüntüyü yükleme\n",
    "image = cv2.imread('input.jpg')\n",
    "\n",
    "# Bulanıklaştırma filtresi uygulama\n",
    "blurred_image = cv2.GaussianBlur(image, (5, 5), 0)\n",
    "\n",
    "# Kenarları vurgulama filtresi uygulama\n",
    "edges = cv2.Canny(image, 100, 200)"
   ]
  },
  {
   "cell_type": "code",
   "execution_count": 45,
   "id": "ddd43c6d",
   "metadata": {},
   "outputs": [
    {
     "ename": "error",
     "evalue": "OpenCV(4.9.0) D:\\a\\opencv-python\\opencv-python\\opencv\\modules\\calib3d\\src\\stereobm.cpp:1190: error: (-211:One of the arguments' values is out of range) SADWindowSize must be odd, be within 5..255 and be not larger than image width or height in function 'cv::StereoBMImpl::compute'\n",
     "output_type": "error",
     "traceback": [
      "\u001b[1;31m---------------------------------------------------------------------------\u001b[0m",
      "\u001b[1;31merror\u001b[0m                                     Traceback (most recent call last)",
      "Cell \u001b[1;32mIn[45], line 12\u001b[0m\n\u001b[0;32m      9\u001b[0m stereo \u001b[38;5;241m=\u001b[39m cv2\u001b[38;5;241m.\u001b[39mStereoBM_create(numDisparities\u001b[38;5;241m=\u001b[39m\u001b[38;5;241m16\u001b[39m, blockSize\u001b[38;5;241m=\u001b[39m\u001b[38;5;241m15\u001b[39m)\n\u001b[0;32m     11\u001b[0m \u001b[38;5;66;03m# Disparity hesaplama\u001b[39;00m\n\u001b[1;32m---> 12\u001b[0m disparity \u001b[38;5;241m=\u001b[39m \u001b[43mstereo\u001b[49m\u001b[38;5;241;43m.\u001b[39;49m\u001b[43mcompute\u001b[49m\u001b[43m(\u001b[49m\u001b[43mleft_image\u001b[49m\u001b[43m,\u001b[49m\u001b[43m \u001b[49m\u001b[43mright_image\u001b[49m\u001b[43m)\u001b[49m\n\u001b[0;32m     14\u001b[0m \u001b[38;5;66;03m# Normalleştirme\u001b[39;00m\n\u001b[0;32m     15\u001b[0m disparity_normalized \u001b[38;5;241m=\u001b[39m cv2\u001b[38;5;241m.\u001b[39mnormalize(disparity, disparity, alpha\u001b[38;5;241m=\u001b[39m\u001b[38;5;241m0\u001b[39m, beta\u001b[38;5;241m=\u001b[39m\u001b[38;5;241m255\u001b[39m, norm_type\u001b[38;5;241m=\u001b[39mcv2\u001b[38;5;241m.\u001b[39mNORM_MINMAX)\n",
      "\u001b[1;31merror\u001b[0m: OpenCV(4.9.0) D:\\a\\opencv-python\\opencv-python\\opencv\\modules\\calib3d\\src\\stereobm.cpp:1190: error: (-211:One of the arguments' values is out of range) SADWindowSize must be odd, be within 5..255 and be not larger than image width or height in function 'cv::StereoBMImpl::compute'\n"
     ]
    }
   ],
   "source": [
    "import numpy as np\n",
    "import cv2\n",
    "\n",
    "# Sol ve sağ stereo görüntüleri yükleme\n",
    "left_image = cv2.imread('left_image.jpg', 0)\n",
    "right_image = cv2.imread('right_image.jpg', 0)\n",
    "\n",
    "# StereoBM nesnesi oluşturma\n",
    "stereo = cv2.StereoBM_create(numDisparities=16, blockSize=15)\n",
    "\n",
    "# Disparity hesaplama\n",
    "disparity = stereo.compute(left_image, right_image)\n",
    "\n",
    "# Normalleştirme\n",
    "disparity_normalized = cv2.normalize(disparity, disparity, alpha=0, beta=255, norm_type=cv2.NORM_MINMAX)\n",
    "\n",
    "# Derinlik haritasını gösterme\n",
    "cv2.imshow('Depth Map', disparity_normalized)\n",
    "cv2.waitKey(0)\n",
    "cv2.destroyAllWindows()\n"
   ]
  }
 ],
 "metadata": {
  "kernelspec": {
   "display_name": "Python 3 (ipykernel)",
   "language": "python",
   "name": "python3"
  },
  "language_info": {
   "codemirror_mode": {
    "name": "ipython",
    "version": 3
   },
   "file_extension": ".py",
   "mimetype": "text/x-python",
   "name": "python",
   "nbconvert_exporter": "python",
   "pygments_lexer": "ipython3",
   "version": "3.12.3"
  }
 },
 "nbformat": 4,
 "nbformat_minor": 5
}
